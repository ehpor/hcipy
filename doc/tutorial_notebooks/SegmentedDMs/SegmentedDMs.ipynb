{
 "cells": [
  {
   "cell_type": "markdown",
   "metadata": {},
   "source": [
    "# Segmented deformable mirrors\n",
    "\n",
    "We will use segmented deformable mirrors and simulate the PSFs that result from segment pistons and tilts. We will compare this functionality against Poppy, another optical propagation package.\n",
    "\n",
    "First we'll import all packages."
   ]
  },
  {
   "cell_type": "code",
   "execution_count": null,
   "metadata": {},
   "outputs": [],
   "source": [
    "import os\n",
    "import numpy as np\n",
    "import matplotlib.pyplot as plt\n",
    "import astropy.units as u\n",
    "import hcipy\n",
    "import poppy"
   ]
  },
  {
   "cell_type": "code",
   "execution_count": null,
   "metadata": {},
   "outputs": [],
   "source": [
    "# Parameters for the pupil function\n",
    "pupil_diameter = 0.019725 # m\n",
    "gap_size = 90e-6 # m\n",
    "num_rings = 3\n",
    "segment_flat_to_flat = (pupil_diameter - (2 * num_rings + 1) * gap_size) / (2 * num_rings + 1)\n",
    "focal_length = 1 # m\n",
    "\n",
    "# Parameters for the simulation\n",
    "num_pix = 1024\n",
    "wavelength = 638e-9\n",
    "num_airy = 20\n",
    "sampling = 4\n",
    "norm = False"
   ]
  },
  {
   "cell_type": "markdown",
   "metadata": {},
   "source": [
    "## Instantiate the segmented mirrors\n",
    "\n",
    "### HCIPy SM: `hsm`\n",
    "\n",
    "We need to generate a pupil grid for the aperture, and a focal grid and propagator for the focal plane images after the DM."
   ]
  },
  {
   "cell_type": "code",
   "execution_count": null,
   "metadata": {},
   "outputs": [],
   "source": [
    "# HCIPy grids and propagator\n",
    "pupil_grid = hcipy.make_pupil_grid(dims=num_pix, diameter=pupil_diameter)\n",
    "\n",
    "focal_grid = hcipy.make_focal_grid(sampling, num_airy,\n",
    "                                   pupil_diameter=pupil_diameter,\n",
    "                                   reference_wavelength=wavelength,\n",
    "                                   focal_length=focal_length)\n",
    "focal_grid = focal_grid.shifted(np.array(focal_grid.delta) / 2)\n",
    "\n",
    "prop = hcipy.FraunhoferPropagator(pupil_grid, focal_grid, focal_length)"
   ]
  },
  {
   "cell_type": "markdown",
   "metadata": {},
   "source": [
    "We generate a segmented aperture for the segmented mirror. For convenience, we'll use the HiCAT pupil without spiders. We'll use supersampling to better resolve the segment gaps."
   ]
  },
  {
   "cell_type": "code",
   "execution_count": null,
   "metadata": {},
   "outputs": [],
   "source": [
    "aper, segments = hcipy.make_hexagonal_segmented_aperture(num_rings,\n",
    "                                                         segment_flat_to_flat,\n",
    "                                                         gap_size,\n",
    "                                                         starting_ring=1,\n",
    "                                                         return_segments=True)\n",
    "\n",
    "aper = hcipy.evaluate_supersampled(aper, pupil_grid, 1)\n",
    "segments = hcipy.evaluate_supersampled(segments, pupil_grid, 1)\n",
    "\n",
    "plt.title('HCIPy aperture')\n",
    "hcipy.imshow_field(aper, cmap='gray')"
   ]
  },
  {
   "cell_type": "markdown",
   "metadata": {},
   "source": [
    "Now we make the segmented mirror. In order to be able to apply the SM to a plane, that plane needs to be a `Wavefront`, which combines a `Field` - here the aperture - with a wavelength, here `wavelength`.\n",
    "\n",
    "In this example here, since the SM doesn't have any extra effects on the pupil since it's still completely flat, we don't actually have to apply the SM, although of course we could."
   ]
  },
  {
   "cell_type": "code",
   "execution_count": null,
   "metadata": {},
   "outputs": [],
   "source": [
    "# Instantiate the segmented mirror\n",
    "hsm = hcipy.SegmentedDeformableMirror(segments)\n",
    "\n",
    "# Make a pupil plane wavefront from aperture\n",
    "wf = hcipy.Wavefront(aper, wavelength)\n",
    "\n",
    "# Apply SM if you want to\n",
    "wf = hsm(wf)\n",
    "\n",
    "plt.figure(figsize=(8, 8))\n",
    "plt.title('Wavefront intensity at HCIPy SM')\n",
    "hcipy.imshow_field(wf.intensity, cmap='gray')\n",
    "plt.colorbar()\n",
    "plt.show()"
   ]
  },
  {
   "cell_type": "markdown",
   "metadata": {},
   "source": [
    "### Poppy SM: `psm`\n",
    "\n",
    "We'll do the same for Poppy."
   ]
  },
  {
   "cell_type": "code",
   "execution_count": null,
   "metadata": {},
   "outputs": [],
   "source": [
    "psm = poppy.dms.HexSegmentedDeformableMirror(name='Poppy SM',\n",
    "                                             rings=3,\n",
    "                                             flattoflat=segment_flat_to_flat*u.m,\n",
    "                                             gap=gap_size*u.m,\n",
    "                                             center=False)"
   ]
  },
  {
   "cell_type": "code",
   "execution_count": null,
   "metadata": {},
   "outputs": [],
   "source": [
    "# Display the transmission and phase of the poppy sm\n",
    "plt.figure(figsize=(8, 8))\n",
    "psm.display(what='amplitude')"
   ]
  },
  {
   "cell_type": "markdown",
   "metadata": {},
   "source": [
    "## Create reference images\n",
    "\n",
    "### HCIPy reference image\n",
    "\n",
    "We need to apply the SM to the wavefront in the pupil plane and then propagate it to the image plane."
   ]
  },
  {
   "cell_type": "code",
   "execution_count": null,
   "metadata": {},
   "outputs": [],
   "source": [
    "# Apply SM to pupil plane wf\n",
    "wf_sm = hsm(wf)\n",
    "\n",
    "# Propagate from SM to image plane\n",
    "im_ref_hc = prop(wf_sm)"
   ]
  },
  {
   "cell_type": "code",
   "execution_count": null,
   "metadata": {},
   "outputs": [],
   "source": [
    "# Display intensity and phase in image plane\n",
    "plt.figure(figsize=(8, 8))\n",
    "plt.suptitle('Image plane after HCIPy SM')\n",
    "\n",
    "# Get normalization factor for HCIPy reference image\n",
    "norm_hc = np.max(im_ref_hc.intensity)\n",
    "\n",
    "hcipy.imshow_psf(im_ref_hc, normalization='peak')"
   ]
  },
  {
   "cell_type": "markdown",
   "metadata": {},
   "source": [
    "### Poppy reference image\n",
    "\n",
    "For the Poppy propagation, we need to make an optical system of which we then calculate the PSF. We match HCIPy's image scale with Poppy."
   ]
  },
  {
   "cell_type": "code",
   "execution_count": null,
   "metadata": {},
   "outputs": [],
   "source": [
    "# Make an optical system with the Poppy SM and a detector\n",
    "psm.flatten()\n",
    "\n",
    "pxscle = np.degrees(wavelength / pupil_diameter) * 3600 / sampling\n",
    "fovarc = pxscle * 160\n",
    "\n",
    "osys = poppy.OpticalSystem()\n",
    "osys.add_pupil(psm)\n",
    "osys.add_detector(pixelscale=pxscle, fov_arcsec=fovarc, oversample=1)"
   ]
  },
  {
   "cell_type": "code",
   "execution_count": null,
   "metadata": {},
   "outputs": [],
   "source": [
    "# Calculate the PSF\n",
    "psf = osys.calc_psf(wavelength)\n",
    "plt.figure(figsize=(8, 8))\n",
    "poppy.display_psf(psf, vmin=1e-9, vmax=0.1)\n",
    "\n",
    "# Get the PSF as an array\n",
    "im_ref_pop = psf[0].data\n",
    "print('Poppy PSF shape: {}'.format(im_ref_pop.shape))\n",
    "\n",
    "# Get normalization from Poppy reference image\n",
    "norm_pop = np.max(im_ref_pop)"
   ]
  },
  {
   "cell_type": "markdown",
   "metadata": {},
   "source": [
    "### Both reference images side-by-side"
   ]
  },
  {
   "cell_type": "code",
   "execution_count": null,
   "metadata": {},
   "outputs": [],
   "source": [
    "plt.figure(figsize=(15,6))\n",
    "\n",
    "plt.subplot(1, 2, 1)\n",
    "hcipy.imshow_field(np.log10(im_ref_hc.intensity / norm_hc), vmin=-10, cmap='inferno')\n",
    "plt.title('HCIPy reference PSF')\n",
    "plt.colorbar()\n",
    "\n",
    "plt.subplot(1, 2, 2)\n",
    "plt.imshow(np.log10(im_ref_pop / norm_pop), origin='lower', vmin=-10, cmap='inferno')\n",
    "plt.title('Poppy reference PSF')\n",
    "plt.colorbar()"
   ]
  },
  {
   "cell_type": "code",
   "execution_count": null,
   "metadata": {},
   "outputs": [],
   "source": [
    "ref_dif = im_ref_pop / norm_pop - im_ref_hc.intensity.shaped / norm_hc\n",
    "\n",
    "lims = np.max(np.abs(ref_dif))\n",
    "\n",
    "plt.figure(figsize=(15, 6))\n",
    "plt.suptitle(f'Maximum relative error: {lims:0.2g} relative to the peak intensity')\n",
    "plt.subplot(1, 2, 1)\n",
    "plt.imshow(ref_dif, origin='lower', vmin=-lims, vmax=lims, cmap='RdBu')\n",
    "plt.title('Full image')\n",
    "plt.colorbar()\n",
    "plt.subplot(1, 2, 2)\n",
    "plt.imshow(ref_dif[60:100,60:100], origin='lower', vmin=-lims, vmax=lims, cmap='RdBu')\n",
    "plt.title('Zoomed in')\n",
    "plt.colorbar()"
   ]
  },
  {
   "cell_type": "markdown",
   "metadata": {},
   "source": [
    "## Applying aberrations"
   ]
  },
  {
   "cell_type": "code",
   "execution_count": null,
   "metadata": {},
   "outputs": [],
   "source": [
    "# Define function from rad of phase to m OPD\n",
    "def aber_to_opd(aber_rad, wavelength):\n",
    "    aber_m = aber_rad * wavelength / (2 * np.pi)\n",
    "    return aber_m\n",
    "\n",
    "aber_rad = 4.0\n",
    "\n",
    "print('Aberration: {} rad'.format(aber_rad))\n",
    "print('Aberration: {} m'.format(aber_to_opd(aber_rad, wavelength)))\n",
    "\n",
    "# Poppy and HCIPy have a different way of indexing segments\n",
    "# Figure out which index to poke on which mirror\n",
    "poppy_index_to_hcipy_index = []\n",
    "for n in range(1, num_rings + 1):\n",
    "    base = list(range(3 * (n - 1) * n + 1, 3 * n * (n + 1) + 1))\n",
    "\n",
    "    poppy_index_to_hcipy_index.extend(base[2 * n::-1])\n",
    "    poppy_index_to_hcipy_index.extend(base[:2 * n:-1])\n",
    "\n",
    "poppy_index_to_hcipy_index = {j: i for i, j in enumerate(poppy_index_to_hcipy_index) if j is not None}\n",
    "\n",
    "hcipy_index_to_poppy_index = {j: i for i, j in poppy_index_to_hcipy_index.items()}"
   ]
  },
  {
   "cell_type": "code",
   "execution_count": null,
   "metadata": {
    "scrolled": false
   },
   "outputs": [],
   "source": [
    "# Flatten both SMs just to be sure\n",
    "hsm.flatten()\n",
    "psm.flatten()\n",
    "\n",
    "# Poking segment 35 and 25\n",
    "for i in [35, 25]:\n",
    "    hsm.set_segment_actuators(i, aber_to_opd(aber_rad, wavelength) / 2, 0, 0)\n",
    "    psm.set_actuator(hcipy_index_to_poppy_index[i], aber_to_opd(aber_rad, wavelength) * u.m, 0, 0)\n",
    "\n",
    "# Display both segmented mirrors in OPD\n",
    "\n",
    "# HCIPy\n",
    "plt.figure(figsize=(8,8))\n",
    "plt.title('OPD for HCIPy SM')\n",
    "hcipy.imshow_field(hsm.surface * 2, mask=aper, cmap='RdBu_r', vmin=-5e-7, vmax=5e-7)\n",
    "plt.colorbar()\n",
    "plt.show()\n",
    "\n",
    "# Poppy\n",
    "plt.figure(figsize=(8,8))\n",
    "psm.display(what='opd')\n",
    "plt.show()"
   ]
  },
  {
   "cell_type": "markdown",
   "metadata": {},
   "source": [
    "### Show focal plane images"
   ]
  },
  {
   "cell_type": "code",
   "execution_count": null,
   "metadata": {},
   "outputs": [],
   "source": [
    "### HCIPy\n",
    "# Apply SM to pupil plane wf\n",
    "wf_fp_pistoned = hsm(wf)\n",
    "\n",
    "# Propagate from SM to image plane\n",
    "im_pistoned_hc = prop(wf_fp_pistoned)\n",
    "\n",
    "### Poppy\n",
    "# Calculate the PSF\n",
    "psf = osys.calc_psf(wavelength)\n",
    "\n",
    "# Get the PSF as an array\n",
    "im_pistoned_pop = psf[0].data\n",
    "\n",
    "### Display intensity of both cases image plane\n",
    "plt.figure(figsize=(15, 6))\n",
    "plt.suptitle('Image plane after SM for $\\phi$ = ' + str(aber_rad) + ' rad')\n",
    "\n",
    "plt.subplot(1, 2, 1)\n",
    "hcipy.imshow_field(np.log10(im_pistoned_hc.intensity / norm_hc), cmap='inferno', vmin=-9)\n",
    "plt.title('HCIPy pistoned pair')\n",
    "plt.colorbar()\n",
    "\n",
    "plt.subplot(1, 2, 2)\n",
    "plt.imshow(np.log10(im_pistoned_pop / norm_pop), origin='lower', cmap='inferno', vmin=-9)\n",
    "plt.title('Poppy pistoned pair')\n",
    "plt.colorbar()"
   ]
  },
  {
   "cell_type": "markdown",
   "metadata": {},
   "source": [
    "## A mix of piston, tip and tilt (PTT)"
   ]
  },
  {
   "cell_type": "code",
   "execution_count": null,
   "metadata": {},
   "outputs": [],
   "source": [
    "aber_rad_tt = 200e-6\n",
    "aber_rad_p = 1.8\n",
    "\n",
    "opd_piston = aber_to_opd(aber_rad_p, wavelength)\n",
    "\n",
    "### Put aberrations on both SMs\n",
    "# Flatten both SMs\n",
    "hsm.flatten()\n",
    "psm.flatten()\n",
    "\n",
    "## PISTON\n",
    "for i in [19, 28, 23, 16]:\n",
    "    hsm.set_segment_actuators(i, opd_piston / 2, 0, 0)\n",
    "    psm.set_actuator(hcipy_index_to_poppy_index[i], opd_piston * u.m, 0, 0)\n",
    "\n",
    "for i in [3, 35, 30, 8]:\n",
    "    hsm.set_segment_actuators(i, -0.5 * opd_piston / 2, 0, 0)\n",
    "    psm.set_actuator(hcipy_index_to_poppy_index[i], -0.5 * opd_piston * u.m, 0, 0)\n",
    "\n",
    "for i in [14, 18, 1, 32, 12]:\n",
    "    hsm.set_segment_actuators(i, 0.3 * opd_piston / 2, 0, 0)\n",
    "    psm.set_actuator(hcipy_index_to_poppy_index[i], 0.3 * opd_piston * u.m, 0, 0)\n",
    "\n",
    "## TIP and TILT\n",
    "for i in [2, 5, 11, 15, 22]:\n",
    "    hsm.set_segment_actuators(i, 0, aber_rad_tt / 2, 0.3 * aber_rad_tt / 2)\n",
    "    psm.set_actuator(hcipy_index_to_poppy_index[i], 0, aber_rad_tt, 0.3 * aber_rad_tt)\n",
    "\n",
    "for i in [4, 6, 26]:\n",
    "    hsm.set_segment_actuators(i, 0, -aber_rad_tt / 2, 0)\n",
    "    psm.set_actuator(hcipy_index_to_poppy_index[i], 0, -aber_rad_tt, 0)\n",
    "\n",
    "for i in [34, 31, 7]:\n",
    "    hsm.set_segment_actuators(i, 0, 0, 1.3 * aber_rad_tt / 2)\n",
    "    psm.set_actuator(hcipy_index_to_poppy_index[i], 0, 0, 1.3 * aber_rad_tt)"
   ]
  },
  {
   "cell_type": "code",
   "execution_count": null,
   "metadata": {},
   "outputs": [],
   "source": [
    "# Display both segmented mirrors in OPD\n",
    "\n",
    "# HCIPy\n",
    "plt.figure(figsize=(8,8))\n",
    "plt.title('OPD for HCIPy SM')\n",
    "hcipy.imshow_field(hsm.surface * 2, mask=aper, cmap='RdBu_r', vmin=-5e-7, vmax=5e-7)\n",
    "plt.colorbar()\n",
    "plt.show()\n",
    "\n",
    "# Poppy\n",
    "plt.figure(figsize=(8,8))\n",
    "psm.display(what='opd')\n",
    "plt.show()"
   ]
  },
  {
   "cell_type": "code",
   "execution_count": null,
   "metadata": {},
   "outputs": [],
   "source": [
    "### Propagate to image plane\n",
    "## HCIPy\n",
    "# Propagate from pupil plane through SM to image plane\n",
    "im_pistoned_hc = prop(hsm(wf)).intensity\n",
    "\n",
    "## Poppy\n",
    "# Calculate the PSF\n",
    "psf = osys.calc_psf(wavelength)\n",
    "\n",
    "# Get the PSF as an array\n",
    "im_pistoned_pop = psf[0].data"
   ]
  },
  {
   "cell_type": "code",
   "execution_count": null,
   "metadata": {},
   "outputs": [],
   "source": [
    "### Display intensity of both cases image plane\n",
    "plt.figure(figsize=(18, 9))\n",
    "plt.suptitle('Image plane after SM forrandom arangement')\n",
    "\n",
    "plt.subplot(1, 2, 1)\n",
    "hcipy.imshow_field(np.log10(im_pistoned_hc / norm_hc), cmap='inferno', vmin=-9)\n",
    "plt.title('HCIPy random arangement')\n",
    "plt.colorbar()\n",
    "\n",
    "plt.subplot(1, 2, 2)\n",
    "plt.imshow(np.log10(im_pistoned_pop / norm_pop), origin='lower', cmap='inferno', vmin=-9)\n",
    "plt.title('Poppy tipped arangement')\n",
    "plt.colorbar()\n",
    "plt.show()"
   ]
  }
 ],
 "metadata": {
  "kernelspec": {
   "display_name": "Python 3",
   "language": "python",
   "name": "python3"
  },
  "language_info": {
   "codemirror_mode": {
    "name": "ipython",
    "version": 3
   },
   "file_extension": ".py",
   "mimetype": "text/x-python",
   "name": "python",
   "nbconvert_exporter": "python",
   "pygments_lexer": "ipython3",
   "version": "3.7.9"
  },
  "level": "intermediate",
  "thumbnail_figure_index": -3
 },
 "nbformat": 4,
 "nbformat_minor": 2
}
