{
 "cells": [
  {
   "cell_type": "markdown",
   "metadata": {},
   "source": [
    "# Telescope pupils and Grids\n",
    "\n",
    "We will introduce the core elements in HCIPy (Grids and Fields) and will generate telescope pupils for all telescopes included in HCIPy."
   ]
  },
  {
   "cell_type": "code",
   "execution_count": 1,
   "metadata": {},
   "outputs": [],
   "source": [
    "import numpy as np\n",
    "import matplotlib.pyplot as plt\n",
    "\n",
    "from hcipy import *"
   ]
  },
  {
   "cell_type": "markdown",
   "metadata": {},
   "source": [
    "Let's create a VLT (Very Large Telescope) pupil. We can do this using the `make_vlt_aperture()` function:"
   ]
  },
  {
   "cell_type": "code",
   "execution_count": null,
   "metadata": {},
   "outputs": [],
   "source": [
    "vlt_aperture = make_vlt_aperture()\n",
    "\n",
    "print(type(vlt_aperture))"
   ]
  },
  {
   "cell_type": "markdown",
   "metadata": {},
   "source": [
    "We can see however that this does not return an image of the VLT pupil, but rather a Python function object. This function contains only the geometry of the VLT pupil itself, rather than an image of the pupil on a certain sampling. To create an image out of this function, we need to call it with a sampling that tells us where each pixel in the image is located. HCIPy uses a `Grid` for this. Let's create one:"
   ]
  },
  {
   "cell_type": "code",
   "execution_count": null,
   "metadata": {},
   "outputs": [],
   "source": [
    "grid = make_pupil_grid(128, diameter=10)\n",
    "\n",
    "print(type(grid))\n",
    "print(type(grid.coords))"
   ]
  },
  {
   "cell_type": "markdown",
   "metadata": {},
   "source": [
    "The function `make_pupil_grid()` is a convenience function to create a uniform sampling with Cartesian (x/y) coordinates. The `diameter` argument tells the function what the total extent of the sampling needs to be.\n",
    "\n",
    "We can see that the function returned a `CartesianGrid` object, which indicates that its coordinates are on a Cartesian coordinate system. There are a few coordinate systems in HCIPy, most notably `CartesianGrid` and `PolarGrid` for Cartesian and polar coordinate systems respectively.\n",
    "\n",
    "The raw numbers themselves that indicate where the sampling points are located, are stored in the `Grid.coords` attribute. We can see that `make_pupil_grid()` made a `RegularCoords` object for us, which indicates that our coordinates are regularly spaced in all axes. That is, the distance between points is constant.\n",
    "\n",
    "To show the x and y sample points of this grid, we can simply access the `CartesianGrid.x` and `CartesianGrid.y` attributes of our grid:"
   ]
  },
  {
   "cell_type": "code",
   "execution_count": null,
   "metadata": {},
   "outputs": [],
   "source": [
    "print('x:', grid.x)\n",
    "print('y:', grid.y)"
   ]
  },
  {
   "cell_type": "markdown",
   "metadata": {},
   "source": [
    "Another useful attribute of a `Grid` is `Grid.points`. This stores a list of `(x, y)` values in a list, which makes it easy to get the coordinates for individual points in the grid:"
   ]
  },
  {
   "cell_type": "code",
   "execution_count": null,
   "metadata": {},
   "outputs": [],
   "source": [
    "print('x[100]:', grid.x[100])\n",
    "print('y[100]:', grid.y[100])\n",
    "print('(x, y):', grid.points[100])"
   ]
  },
  {
   "cell_type": "markdown",
   "metadata": {},
   "source": [
    "Let's see all these points in a plot:"
   ]
  },
  {
   "cell_type": "code",
   "execution_count": null,
   "metadata": {},
   "outputs": [],
   "source": [
    "plt.plot(grid.x, grid.y, '.')\n",
    "plt.gca().set_aspect(1)\n",
    "plt.xlabel('x [m]')\n",
    "plt.ylabel('y [m]')\n",
    "plt.show()"
   ]
  },
  {
   "cell_type": "markdown",
   "metadata": {},
   "source": [
    "That's a lot of points. Let's zoom in on one of the corners to see what's actually happening."
   ]
  },
  {
   "cell_type": "code",
   "execution_count": null,
   "metadata": {},
   "outputs": [],
   "source": [
    "plt.plot(grid.x, grid.y, '.')\n",
    "plt.gca().set_aspect(1)\n",
    "plt.xlabel('x [m]')\n",
    "plt.ylabel('y [m]')\n",
    "plt.xlim(4, 5.2)\n",
    "plt.ylim(4, 5.2)\n",
    "plt.show()"
   ]
  },
  {
   "cell_type": "markdown",
   "metadata": {},
   "source": [
    "Note that the points do not extend all the way to (5, 5). While the pixels themselves do extend to the full extent, the centers of these pixels do not. We can make this more clear by drawing a rectangle around each point."
   ]
  },
  {
   "cell_type": "code",
   "execution_count": null,
   "metadata": {},
   "outputs": [],
   "source": [
    "plt.plot(grid.x, grid.y, '.')\n",
    "plt.gca().set_aspect(1)\n",
    "plt.xlabel('x [m]')\n",
    "plt.ylabel('y [m]')\n",
    "plt.xlim(4, 5.2)\n",
    "plt.ylim(4, 5.2)\n",
    "\n",
    "for p in grid.points:\n",
    "    rect = plt.Rectangle(p - grid.delta / 2, *grid.delta, linewidth=1, edgecolor=colors.red, facecolor='none')\n",
    "    plt.gca().add_patch(rect)\n",
    "\n",
    "plt.show()"
   ]
  },
  {
   "cell_type": "markdown",
   "metadata": {},
   "source": [
    "Let's get back to the aperture and make an image out of it by evaluation:"
   ]
  },
  {
   "cell_type": "code",
   "execution_count": null,
   "metadata": {},
   "outputs": [],
   "source": [
    "aperture = vlt_aperture(grid)\n",
    "\n",
    "print(type(aperture))"
   ]
  },
  {
   "cell_type": "markdown",
   "metadata": {},
   "source": [
    "So, the resulting object still isn't a Numpy array, but a `Field` instead. In HCIPy, a `Field` object combines a Numpy array and a `Grid`:"
   ]
  },
  {
   "cell_type": "code",
   "execution_count": null,
   "metadata": {},
   "outputs": [],
   "source": [
    "print('The grid of aperture:', aperture.grid)"
   ]
  },
  {
   "cell_type": "markdown",
   "metadata": {},
   "source": [
    "We can now show this field with the `imshow_field()` function. This function takes into account the grid on which the field is defined and uses it to set the right axes and scaling of the image."
   ]
  },
  {
   "cell_type": "code",
   "execution_count": null,
   "metadata": {},
   "outputs": [],
   "source": [
    "imshow_field(aperture, cmap='gray', interpolation='nearest')\n",
    "plt.xlabel('x [m]')\n",
    "plt.ylabel('y [m]')\n",
    "plt.show()"
   ]
  },
  {
   "cell_type": "markdown",
   "metadata": {},
   "source": [
    "Note that the extent of this image is indeed the 10 meters that we specified when we first made this grid.\n",
    "\n",
    "We can also see that the secondary support structure (or spider) is dashed instead of solid. This is due to pixellation. The underlying aperture is either zero or one, so if we evaluate it, the result is gonna be one of those values. Let's zoom into the spider a bit and overlay the positions of the pixels:"
   ]
  },
  {
   "cell_type": "code",
   "execution_count": null,
   "metadata": {},
   "outputs": [],
   "source": [
    "imshow_field(aperture, cmap='gray', interpolation='nearest')\n",
    "plt.plot(grid.x, grid.y, '.')\n",
    "plt.xlabel('x [m]')\n",
    "plt.ylabel('y [m]')\n",
    "plt.xlim(2.5, 4.5)\n",
    "plt.ylim(-0.85, 0.85)\n",
    "plt.show()"
   ]
  },
  {
   "cell_type": "markdown",
   "metadata": {},
   "source": [
    "Here we can clearly see that happening. We can avoid this by increasing our sampling. Instead of creating a new pupil grid, now with 256 pixels across, let's do something more interesting. Let's supersample the grid that we already have and re-evaluate the aperture on that new grid."
   ]
  },
  {
   "cell_type": "code",
   "execution_count": null,
   "metadata": {},
   "outputs": [],
   "source": [
    "grid_double = make_supersampled_grid(grid, 2)\n",
    "aperture_double = vlt_aperture(grid_double)\n",
    "\n",
    "imshow_field(aperture_double, cmap='gray', interpolation='nearest')\n",
    "plt.plot(grid_double.x, grid_double.y, '.')\n",
    "plt.xlabel('x [m]')\n",
    "plt.ylabel('y [m]')\n",
    "plt.xlim(2.5, 4.5)\n",
    "plt.ylim(-0.85, 0.85)\n",
    "plt.show()"
   ]
  },
  {
   "cell_type": "markdown",
   "metadata": {},
   "source": [
    "We can now see that we fully resolve the spider.\n",
    "\n",
    "Sometimes using more pixels is not what we want, since this comes at the cost of computation time. Another way is to supersample the pixels themselves. That is, we increase the resolution by a certain factor (say 4x), so that each pixel is now composed of 4x4=16 subpixels. Then we evaluate our function on that high-resolution grid. Finally, we take the average of all subpixels to form our supersampled image.\n",
    "\n",
    "Rather than doing this procedure manually, HCIPy has `evaluate_supersampled()` that does this for you, and in a slightly smarter way too."
   ]
  },
  {
   "cell_type": "code",
   "execution_count": null,
   "metadata": {},
   "outputs": [],
   "source": [
    "aperture_supersampled = evaluate_supersampled(vlt_aperture, grid, 8)\n",
    "\n",
    "imshow_field(aperture_supersampled, cmap='gray', interpolation='nearest')\n",
    "plt.plot(grid.x, grid.y, '.')\n",
    "plt.xlabel('x [m]')\n",
    "plt.ylabel('y [m]')\n",
    "plt.xlim(2.5, 4.5)\n",
    "plt.ylim(-0.85, 0.85)\n",
    "plt.show()"
   ]
  },
  {
   "cell_type": "markdown",
   "metadata": {},
   "source": [
    "We can now see that we have a `Field` at the original resolution, but now with grayscale pixels. The full aperture now looks like:"
   ]
  },
  {
   "cell_type": "code",
   "execution_count": null,
   "metadata": {},
   "outputs": [],
   "source": [
    "imshow_field(aperture_supersampled, cmap='gray', interpolation='nearest')\n",
    "plt.xlabel('x [m]')\n",
    "plt.ylabel('y [m]')\n",
    "plt.show()"
   ]
  },
  {
   "cell_type": "markdown",
   "metadata": {},
   "source": [
    "which certainly looks more pleasingly by eye. This can improve on simulation fidelity without any additional computational cost (outside of the initial setup/calculation of the mask itself). This technique is used often for resolving small pupil features, such as thin spider vanes or the gaps between segments on segmented pupils.\n",
    "\n",
    "We are now ready to do the same for all telescope pupils implemented in HCIPy, and make a nice collage out of them. We'll compute the images on a 512x512 grid, using 4x supersampling."
   ]
  },
  {
   "cell_type": "code",
   "execution_count": null,
   "metadata": {},
   "outputs": [],
   "source": [
    "aperture_funcs = [\n",
    "    ('ELT', make_elt_aperture),\n",
    "    ('GMT', make_gmt_aperture),\n",
    "    ('TMT', make_tmt_aperture),\n",
    "    ('Hale', make_hale_aperture),\n",
    "    ('LUVOIR-A', make_luvoir_a_aperture),\n",
    "    ('LUVOIR-B', make_luvoir_b_aperture),\n",
    "    ('Magellan', make_magellan_aperture),\n",
    "    ('VLT', make_vlt_aperture),\n",
    "    ('HiCAT', make_hicat_aperture),\n",
    "    ('HabEx', make_habex_aperture),\n",
    "    ('HST', make_hst_aperture),\n",
    "    ('JWST', make_jwst_aperture),\n",
    "    ('Keck', make_keck_aperture),\n",
    "    ('EAC2', make_eac2_aperture),\n",
    "    ('Subaru', make_subaru_aperture),\n",
    "    ('SCExAO', make_scexao_aperture),\n",
    "]\n",
    "\n",
    "pupil_grid = make_pupil_grid(512)\n",
    "\n",
    "n_width = 4\n",
    "n_height = 4\n",
    "\n",
    "for i, (label, aperture) in enumerate(aperture_funcs):\n",
    "    img = evaluate_supersampled(aperture(normalized=True), pupil_grid, 4)\n",
    "\n",
    "    ax = plt.subplot(n_height, n_width, i + 1)\n",
    "    ax.set_title(label)\n",
    "    imshow_field(img, cmap='gray', interpolation='bilinear', ax=ax)\n",
    "    ax.xaxis.set_ticks([])\n",
    "    ax.yaxis.set_ticks([])\n",
    "\n",
    "plt.tight_layout()\n",
    "plt.show()"
   ]
  },
  {
   "cell_type": "code",
   "execution_count": null,
   "metadata": {},
   "outputs": [],
   "source": []
  }
 ],
 "metadata": {
  "kernelspec": {
   "display_name": "dev",
   "language": "python",
   "name": "python3"
  },
  "language_info": {
   "codemirror_mode": {
    "name": "ipython",
    "version": 3
   },
   "file_extension": ".py",
   "mimetype": "text/x-python",
   "name": "python",
   "nbconvert_exporter": "python",
   "pygments_lexer": "ipython3",
   "version": "3.10.13"
  },
  "level": "beginner",
  "thumbnail_figure_index": -1
 },
 "nbformat": 4,
 "nbformat_minor": 2
}
