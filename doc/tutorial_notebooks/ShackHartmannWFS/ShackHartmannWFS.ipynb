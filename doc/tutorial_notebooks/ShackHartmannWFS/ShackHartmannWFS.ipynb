{
 "cells": [
  {
   "cell_type": "markdown",
   "metadata": {
    "id": "Ise-yigyXWB6"
   },
   "source": [
    "# Adaptive optics with a Shack-Hartmann wavefront sensor\n",
    "\n",
    "We will simulate a closed-loop adaptive optics system, based on the the Spectro-Polarimetric High-contrast Exoplanet REsearch (SPHERE) adaptive optics (AO) system, that uses a Shack-Hartmann WFS. We will simulate calibration and on-sky operation of this simulated AO system.\n",
    "\n",
    "We first start by importing the relevant python modules."
   ]
  },
  {
   "cell_type": "code",
   "execution_count": null,
   "metadata": {
    "id": "6skJiBJcR4AR"
   },
   "outputs": [],
   "source": [
    "from hcipy import *\n",
    "from tqdm.notebook import tqdm\n",
    "\n",
    "import numpy as np\n",
    "import matplotlib.pyplot as plt\n",
    "import scipy.ndimage as ndimage\n",
    "import time\n",
    "import os\n",
    "\n",
    "%matplotlib inline"
   ]
  },
  {
   "cell_type": "markdown",
   "metadata": {
    "id": "v7Bu0lrASxOv"
   },
   "source": [
    "## Simulating the VLT pupil"
   ]
  },
  {
   "cell_type": "markdown",
   "metadata": {
    "id": "4gNCq2cTS1tH"
   },
   "source": [
    "We will model here the VLT pupil, of 8m in diameter (the primary mirror is 8.2m but the actual pupil is restricted by M2 to 8m, there is an extra margin used for choping in the infrared)."
   ]
  },
  {
   "cell_type": "code",
   "execution_count": null,
   "metadata": {
    "id": "FdnllZjbSrYO"
   },
   "outputs": [],
   "source": [
    "telescope_diameter = 8. # meter\n",
    "central_obscuration = 1.2 # meter\n",
    "central_obscuration_ratio = central_obscuration / telescope_diameter\n",
    "spider_width = 0.05 # meter\n",
    "oversizing_factor = 16 / 15"
   ]
  },
  {
   "cell_type": "markdown",
   "metadata": {
    "id": "HSsbXsjOTVXJ"
   },
   "source": [
    "We represent the pupil by a grid of 240px. This is the sampling used by the SH WFS of SPHERE, which is an EMCCD of 240x240px (6px per subapertures, with 40 subapertures on one diameter). \n",
    "To avoid some numerical problems at the edges, we oversize the pupil grid by a factor 16 / 15, e.g. the grid is represented by a grid of 240 * 16 / 15 = 256 px."
   ]
  },
  {
   "cell_type": "code",
   "execution_count": null,
   "metadata": {
    "id": "eJOFKE7gTAkV"
   },
   "outputs": [],
   "source": [
    "num_pupil_pixels = 240 * oversizing_factor\n",
    "pupil_grid_diameter = telescope_diameter * oversizing_factor\n",
    "pupil_grid = make_pupil_grid(num_pupil_pixels, pupil_grid_diameter)\n",
    "\n",
    "VLT_aperture_generator = make_obstructed_circular_aperture(telescope_diameter,\n",
    "    central_obscuration_ratio, num_spiders=4, spider_width=spider_width)\n",
    "\n",
    "VLT_aperture = evaluate_supersampled(VLT_aperture_generator, pupil_grid, 4)"
   ]
  },
  {
   "cell_type": "markdown",
   "metadata": {
    "id": "NUm-PZD_T6au"
   },
   "source": [
    "The factor 4 indicates that each pixel will be evaluated with 4x supersampling, effectively averaging 4x4=16 subpixels for each pixel."
   ]
  },
  {
   "cell_type": "code",
   "execution_count": null,
   "metadata": {
    "id": "zIjStlnpT7CE"
   },
   "outputs": [],
   "source": [
    "imshow_field(VLT_aperture, cmap='gray')\n",
    "plt.xlabel('x position(m)')\n",
    "plt.ylabel('y position(m)')\n",
    "plt.colorbar()\n",
    "plt.show()"
   ]
  },
  {
   "cell_type": "markdown",
   "metadata": {
    "id": "SGvNMr35UBTG"
   },
   "source": [
    "As shown above, the pupil is not exactly that of the VLT (the 4 spiders of the VLT intersect on the perimetre of M2, and not at the center), but this is not important here."
   ]
  },
  {
   "cell_type": "markdown",
   "metadata": {
    "id": "dkljyXtrUPDU"
   },
   "source": [
    "## Incoming wavefront"
   ]
  },
  {
   "cell_type": "markdown",
   "metadata": {
    "id": "sAQ1ciiLUPMT"
   },
   "source": [
    "Let's assume we work with monochromatic light at 700nm for wavefront sensing and in the K band at 2.2 micron for the scientific channel"
   ]
  },
  {
   "cell_type": "code",
   "execution_count": null,
   "metadata": {
    "id": "ucB4Kv0aT7E-"
   },
   "outputs": [],
   "source": [
    "wavelength_wfs = 0.7e-6\n",
    "wavelength_sci = 2.2e-6\n",
    "wf = Wavefront(VLT_aperture, wavelength_sci)\n",
    "wf.total_power = 1"
   ]
  },
  {
   "cell_type": "markdown",
   "metadata": {
    "id": "IyZZQfUxUbbn"
   },
   "source": [
    "Let visualize the corresponding diffraction pattern. To do so, we need to propagate the wavefront from the pupil to a focal plane. We assume here a perfect lens (see :class:`FraunhoferPropagator` for details on the model).\n",
    "\n",
    "We also need to sample the electric field on a focal plane. We use here 4 pixels per resolution elements and set the field of view to 30 lambda/D in radius at the science wavelength."
   ]
  },
  {
   "cell_type": "code",
   "execution_count": null,
   "metadata": {
    "id": "HwuPW0aQUX17"
   },
   "outputs": [],
   "source": [
    "spatial_resolution = wavelength_sci / telescope_diameter\n",
    "focal_grid = make_focal_grid(q=4, num_airy=30, spatial_resolution=spatial_resolution)\n",
    "\n",
    "propagator = FraunhoferPropagator(pupil_grid, focal_grid)\n",
    "\n",
    "unaberrated_PSF = propagator.forward(wf).power\n",
    "\n",
    "imshow_field(np.log10(unaberrated_PSF / unaberrated_PSF.max()), cmap='inferno', vmin=-6)\n",
    "plt.colorbar()\n",
    "plt.show()"
   ]
  },
  {
   "cell_type": "markdown",
   "metadata": {
    "id": "BCipylmjVUHz"
   },
   "source": [
    "## Wavefront sensor"
   ]
  },
  {
   "cell_type": "markdown",
   "metadata": {
    "id": "4te6POIZVYtF"
   },
   "source": [
    "The WFS is a squared 40x40 Shack Hartmann WFS. The diameter of the beam needs to be reshaped with a magnifier, otherwise the spots are not resolved by the pupil grid: the spots have a size of $F \\lambda = 35\\mathrm{\\mu m}$ with a F-ratio of 50. If the beam is 5mm, then 1px is 20 micron and we resolve the spots, albeit barely."
   ]
  },
  {
   "cell_type": "code",
   "execution_count": null,
   "metadata": {
    "id": "wmESDGqBUX5F"
   },
   "outputs": [],
   "source": [
    "f_number = 50\n",
    "num_lenslets = 40 # 40 lenslets along one diameter\n",
    "sh_diameter = 5e-3 # m\n",
    "\n",
    "magnification = sh_diameter / telescope_diameter\n",
    "magnifier = Magnifier(magnification)"
   ]
  },
  {
   "cell_type": "code",
   "execution_count": null,
   "metadata": {
    "id": "Uc8UMJtBVUt5"
   },
   "outputs": [],
   "source": [
    "shwfs = SquareShackHartmannWavefrontSensorOptics(pupil_grid.scaled(magnification), f_number, \\\n",
    "                                                 num_lenslets, sh_diameter)\n",
    "shwfse = ShackHartmannWavefrontSensorEstimator(shwfs.mla_grid, shwfs.micro_lens_array.mla_index)"
   ]
  },
  {
   "cell_type": "markdown",
   "metadata": {
    "id": "zPWqVuE79r0X"
   },
   "source": [
    "We assume a noiseless detector. In practice the EMCCD of SPHERE has RON of about 1 electron."
   ]
  },
  {
   "cell_type": "code",
   "execution_count": null,
   "metadata": {
    "id": "z5AWWy9SVc6Q"
   },
   "outputs": [],
   "source": [
    "camera = NoiselessDetector(focal_grid)"
   ]
  },
  {
   "cell_type": "markdown",
   "metadata": {
    "id": "kxH0NXJK92bN"
   },
   "source": [
    "Let's look at the SH image for an undisturbed wavefront"
   ]
  },
  {
   "cell_type": "code",
   "execution_count": null,
   "metadata": {
    "id": "YjoszRJsVhD5"
   },
   "outputs": [],
   "source": [
    "wf = Wavefront(VLT_aperture, wavelength_wfs)\n",
    "camera.integrate(shwfs(magnifier(wf)), 1)\n",
    "\n",
    "image_ref = camera.read_out()\n",
    "\n",
    "imshow_field(image_ref, cmap='inferno')\n",
    "plt.colorbar()\n",
    "plt.show()"
   ]
  },
  {
   "cell_type": "markdown",
   "metadata": {},
   "source": [
    "And zooming in a bit on some of the spots to see a little more detail..."
   ]
  },
  {
   "cell_type": "code",
   "execution_count": null,
   "metadata": {},
   "outputs": [],
   "source": [
    "imshow_field(image_ref, cmap='inferno')\n",
    "plt.xlim(-0.001, 0.002)\n",
    "plt.ylim(-0.001, 0.002)\n",
    "plt.show()"
   ]
  },
  {
   "cell_type": "markdown",
   "metadata": {
    "id": "oVI0nb9nVlwx"
   },
   "source": [
    "We select subapertures to use for wavefront sensing, based on their flux. The sub-pupils seeing the spiders receive about 75% of the flux of the unobscured sup-apertures. We want to include those, but we do not want to incldues superatures at the edge of the pupil that receive less than 50% of that flux. We therefore use a threshold at 50%.\n",
    "\n"
   ]
  },
  {
   "cell_type": "code",
   "execution_count": null,
   "metadata": {
    "id": "w7zr2MuaVlj8"
   },
   "outputs": [],
   "source": [
    "fluxes = ndimage.measurements.sum(image_ref, shwfse.mla_index, shwfse.estimation_subapertures)\n",
    "flux_limit = fluxes.max() * 0.5\n",
    "\n",
    "estimation_subapertures = shwfs.mla_grid.zeros(dtype='bool')\n",
    "estimation_subapertures[shwfse.estimation_subapertures[fluxes > flux_limit]] = True\n",
    "\n",
    "shwfse = ShackHartmannWavefrontSensorEstimator(shwfs.mla_grid, shwfs.micro_lens_array.mla_index, estimation_subapertures)"
   ]
  },
  {
   "cell_type": "markdown",
   "metadata": {
    "id": "q4TbhO2PVxdS"
   },
   "source": [
    "Calculate reference slopes."
   ]
  },
  {
   "cell_type": "code",
   "execution_count": null,
   "metadata": {
    "id": "VGxovBffVx6H"
   },
   "outputs": [],
   "source": [
    "slopes_ref = shwfse.estimate([image_ref])"
   ]
  },
  {
   "cell_type": "markdown",
   "metadata": {
    "id": "Qdw_sph5V3Y6"
   },
   "source": [
    "## Deformable mirror"
   ]
  },
  {
   "cell_type": "markdown",
   "metadata": {
    "id": "aHY51iOgV8_j"
   },
   "source": [
    "Let's assume we control 500 disk harmonic modes with the DM."
   ]
  },
  {
   "cell_type": "code",
   "execution_count": null,
   "metadata": {
    "id": "zWgCQlIeVyU1"
   },
   "outputs": [],
   "source": [
    "num_modes = 500\n",
    "\n",
    "dm_modes = make_disk_harmonic_basis(pupil_grid, num_modes, telescope_diameter, 'neumann')\n",
    "dm_modes = ModeBasis([mode / np.ptp(mode) for mode in dm_modes], pupil_grid)\n",
    "\n",
    "deformable_mirror = DeformableMirror(dm_modes)"
   ]
  },
  {
   "cell_type": "markdown",
   "metadata": {},
   "source": [
    "## Calibrating the interaction matrix\n",
    "\n",
    "Then we need to calibrate the interaction matrix: you excite individually each mode of the DM and estimate the centroids of the spots."
   ]
  },
  {
   "cell_type": "code",
   "execution_count": null,
   "metadata": {
    "id": "EMpiYUZlV4HF"
   },
   "outputs": [],
   "source": [
    "probe_amp = 0.01 * wavelength_wfs\n",
    "response_matrix = []\n",
    "\n",
    "wf = Wavefront(VLT_aperture, wavelength_wfs)\n",
    "wf.total_power = 1\n",
    "\n",
    "# Set up animation\n",
    "plt.figure(figsize=(10, 6))\n",
    "anim = FFMpegWriter('response_matrix.mp4', framerate=5)\n",
    "\n",
    "for i in tqdm(range(num_modes)):\n",
    "    slope = 0\n",
    "\n",
    "    # Probe the phase response\n",
    "    amps = [-probe_amp, probe_amp]\n",
    "    for amp in amps:\n",
    "        deformable_mirror.flatten()\n",
    "        deformable_mirror.actuators[i] = amp\n",
    "\n",
    "        dm_wf = deformable_mirror.forward(wf)\n",
    "        wfs_wf = shwfs(magnifier(dm_wf))\n",
    "\n",
    "        camera.integrate(wfs_wf, 1)\n",
    "        image = camera.read_out()\n",
    "\n",
    "        slopes = shwfse.estimate([image])\n",
    "\n",
    "        slope += amp * slopes / np.var(amps)\n",
    "\n",
    "    response_matrix.append(slope.ravel())\n",
    "\n",
    "    # Only show all modes for the first 40 modes\n",
    "    if i > 40 and (i + 1) % 20 != 0:\n",
    "        continue\n",
    "\n",
    "    # Plot mode response\n",
    "    plt.clf()\n",
    "    plt.suptitle('Mode %d / %d: DM shape' % (i + 1, num_modes))\n",
    "\n",
    "    plt.subplot(1,2,1)\n",
    "    plt.title('DM surface')\n",
    "    im1 = imshow_field(deformable_mirror.surface, cmap='RdBu', mask=VLT_aperture)\n",
    "\n",
    "    plt.subplot(1,2,2)\n",
    "    plt.title('SH spots')\n",
    "    im2 = imshow_field(image)\n",
    "    plt.quiver(shwfs.mla_grid.subset(shwfse.estimation_subapertures).x,\n",
    "        shwfs.mla_grid.subset(shwfse.estimation_subapertures).y,\n",
    "        slope[0,:], slope[1,:],\n",
    "        color='white')\n",
    "\n",
    "    anim.add_frame()\n",
    "\n",
    "response_matrix = ModeBasis(response_matrix)\n",
    "\n",
    "plt.close()\n",
    "anim.close()\n",
    "\n",
    "# Show created animation\n",
    "anim"
   ]
  },
  {
   "cell_type": "markdown",
   "metadata": {
    "id": "1nBfRKDmI2OG"
   },
   "source": [
    "We invert the interaction matrix using Tikhonov regularisation"
   ]
  },
  {
   "cell_type": "code",
   "execution_count": null,
   "metadata": {
    "id": "JXwOAW15cMNH"
   },
   "outputs": [],
   "source": [
    "rcond = 1e-3\n",
    "\n",
    "reconstruction_matrix = inverse_tikhonov(response_matrix.transformation_matrix, rcond=rcond)\n",
    "print(reconstruction_matrix.shape)"
   ]
  },
  {
   "cell_type": "markdown",
   "metadata": {
    "id": "hS6EcW7Zc4VW"
   },
   "source": [
    "We initialise the DM with a random position by setting the DM actuators at random values."
   ]
  },
  {
   "cell_type": "code",
   "execution_count": null,
   "metadata": {
    "id": "P_Ne0x53c6Mz"
   },
   "outputs": [],
   "source": [
    "# Put actuators at random values, putting a little more power in low-order modes\n",
    "deformable_mirror.actuators = np.random.randn(num_modes) / (np.arange(num_modes) + 10)\n",
    "\n",
    "# Normalize the DM surface so that we get a reasonable surface RMS.\n",
    "deformable_mirror.actuators *= 0.3 * wavelength_sci / np.std(deformable_mirror.surface)\n",
    "\n",
    "imshow_field(deformable_mirror.phase_for(wavelength_wfs), mask=VLT_aperture, cmap='RdBu')\n",
    "plt.colorbar()\n",
    "plt.show()"
   ]
  },
  {
   "cell_type": "markdown",
   "metadata": {
    "id": "9kss19mKHSLy"
   },
   "source": [
    "## Closing the loop without atmospheric disturbance"
   ]
  },
  {
   "cell_type": "code",
   "execution_count": null,
   "metadata": {
    "id": "WFR5vow2ePGv"
   },
   "outputs": [],
   "source": [
    "zero_magnitude_flux = 3.9e10 #3.9e10 photon/s for a mag 0 star\n",
    "stellar_magnitude = 5\n",
    "delta_t = 1e-3 # sec, so a loop speed of 1kHz.\n",
    "\n",
    "wf_wfs = Wavefront(VLT_aperture, wavelength_wfs)\n",
    "wf_sci = Wavefront(VLT_aperture, wavelength_sci)\n",
    "\n",
    "wf_wfs.total_power = zero_magnitude_flux * 10**(-stellar_magnitude / 2.5)\n",
    "wf_sci.total_power = zero_magnitude_flux * 10**(-stellar_magnitude / 2.5)\n",
    "\n",
    "print(\"Photon flux per WFS frame {:g}\".format(wf_wfs.total_power * delta_t))"
   ]
  },
  {
   "cell_type": "code",
   "execution_count": null,
   "metadata": {
    "id": "NyqxAnJ8c81E"
   },
   "outputs": [],
   "source": [
    "deformable_mirror.actuators = np.random.randn(num_modes) / (np.arange(num_modes) + 10)\n",
    "deformable_mirror.actuators *= 0.3 * wavelength_sci / np.std(deformable_mirror.surface)\n",
    "\n",
    "gain = 0.6\n",
    "leakage = 0.01\n",
    "num_iterations = 20\n",
    "\n",
    "long_exposure = 0\n",
    "\n",
    "# Set up animation\n",
    "plt.figure(figsize=(8, 8))\n",
    "anim = FFMpegWriter('AO_simulation_without_turbulence.mp4', framerate=10)\n",
    "\n",
    "for timestep in tqdm(range(num_iterations)):\n",
    "    # Propagate through SH-WFS\n",
    "    wf_after_sh = shwfs(magnifier(deformable_mirror(wf_wfs)))\n",
    "\n",
    "    # Propagate the NIR wavefront\n",
    "    wf_sci_after_dm = propagator(deformable_mirror(wf_sci))\n",
    "\n",
    "    # Read out WFS camera\n",
    "    camera.integrate(wf_after_sh, delta_t)\n",
    "    wfs_image = camera.read_out()\n",
    "    wfs_image = large_poisson(wfs_image).astype('float')\n",
    "\n",
    "    # Calculate slopes from WFS image\n",
    "    slopes = shwfse.estimate([wfs_image + 1e-10])\n",
    "    slopes -= slopes_ref\n",
    "    slopes = slopes.ravel()\n",
    "\n",
    "    # Perform wavefront control and set DM actuators\n",
    "    deformable_mirror.actuators = (1 - leakage) * deformable_mirror.actuators - gain * reconstruction_matrix.dot(slopes)\n",
    "\n",
    "    # Plotting\n",
    "    plt.clf()\n",
    "    plt.suptitle('Timestep %d / %d' % (timestep, num_iterations))\n",
    "\n",
    "    plt.subplot(2,2,1)\n",
    "    plt.title('DM surface [$\\\\mu$m]')\n",
    "    imshow_field(deformable_mirror.surface * 1e6, cmap='RdBu', vmin=-1, vmax=1, mask=VLT_aperture)\n",
    "    plt.colorbar()\n",
    "\n",
    "    plt.subplot(2,2,2)\n",
    "    plt.title('WFS image [counts]')\n",
    "    imshow_field(wfs_image, cmap='inferno')\n",
    "    plt.colorbar()\n",
    "\n",
    "    plt.subplot(2,2,3)\n",
    "    plt.title('Instantaneous PSF at 2.2$\\\\mu$m [log]')\n",
    "    imshow_field(np.log10(wf_sci_after_dm.power / wf_sci_after_dm.power.max()), vmin=-6, vmax=0, cmap='inferno')\n",
    "    plt.colorbar()\n",
    "\n",
    "    anim.add_frame()\n",
    "\n",
    "plt.close()\n",
    "anim.close()\n",
    "\n",
    "# Show created animation\n",
    "anim"
   ]
  },
  {
   "cell_type": "markdown",
   "metadata": {
    "id": "Yu9PunceBZrO"
   },
   "source": [
    "## Simulating the atmosphere\n",
    "\n",
    "Setting the atmospheric parameters:"
   ]
  },
  {
   "cell_type": "code",
   "execution_count": null,
   "metadata": {
    "id": "LcjAhNopBYoL"
   },
   "outputs": [],
   "source": [
    "seeing = 0.6 # arcsec @ 500nm (convention)\n",
    "outer_scale = 40 # meter\n",
    "tau0 = 0.005 # seconds\n",
    "\n",
    "fried_parameter = seeing_to_fried_parameter(seeing)\n",
    "Cn_squared = Cn_squared_from_fried_parameter(fried_parameter, 500e-9)\n",
    "velocity = 0.314 * fried_parameter / tau0\n",
    "\n",
    "print('r0   = {0:.1f}cm'.format(fried_parameter * 100))\n",
    "print('L0   = {0:.1f}m'.format(outer_scale))\n",
    "print('tau0 = {0:.1f}ms'.format(tau0 * 1000))\n",
    "print('v    = {0:.1f}m/s'.format(velocity))"
   ]
  },
  {
   "cell_type": "markdown",
   "metadata": {},
   "source": [
    "And creating the atmospheric model. For simplicity, we will only use a single atmospheric layer in this tutorial."
   ]
  },
  {
   "cell_type": "code",
   "execution_count": null,
   "metadata": {
    "id": "KYrbrIqLBY0X"
   },
   "outputs": [],
   "source": [
    "layer = InfiniteAtmosphericLayer(pupil_grid, Cn_squared, outer_scale, velocity)\n",
    "\n",
    "phase_screen_phase = layer.phase_for(wavelength_wfs) # in radian\n",
    "phase_screen_opd = phase_screen_phase * (wavelength_wfs / (2 * np.pi)) * 1e6\n",
    "\n",
    "imshow_field(phase_screen_opd, vmin=-6, vmax=6, cmap='RdBu')"
   ]
  },
  {
   "cell_type": "markdown",
   "metadata": {},
   "source": [
    "And making sure that the atmosphere looks correct."
   ]
  },
  {
   "cell_type": "code",
   "execution_count": null,
   "metadata": {
    "id": "AHcEHU_BCA7G"
   },
   "outputs": [],
   "source": [
    "plt.figure(figsize=(5, 4))\n",
    "anim = FFMpegWriter('atmospheric_turbulence.mp4', framerate=5)\n",
    "\n",
    "t_end = 1\n",
    "n = 51\n",
    "for t in np.linspace(0, t_end, n):\n",
    "    layer.t = t\n",
    "\n",
    "    phase_screen_phase = layer.phase_for(wavelength_wfs) # in radian\n",
    "    phase_screen_opd = phase_screen_phase * (wavelength_wfs / (2 * np.pi)) * 1e6 # in um\n",
    "\n",
    "    plt.clf()\n",
    "    plt.suptitle('Time %.3f s' % t)\n",
    "\n",
    "    plt.subplot(1,1,1)\n",
    "    plt.title('Turbulent wavefront [$\\\\mu$m]')\n",
    "    imshow_field(phase_screen_opd, vmin=-6, vmax=6, cmap='RdBu')\n",
    "    plt.colorbar()\n",
    "\n",
    "    anim.add_frame()\n",
    "\n",
    "plt.close()\n",
    "anim.close()\n",
    "\n",
    "# Show created animation\n",
    "anim"
   ]
  },
  {
   "cell_type": "markdown",
   "metadata": {
    "id": "C54WxBaDKYn7"
   },
   "source": [
    "## Closing the loop on-sky\n",
    "\n",
    "We can now put everything together. The light at optical wavelengths passes through the turbulent atmospheric layer, reflects off the DM and gets measured by the Shack-Hartmann wavefront sensor. The light at near-infrared wavelengths also passes through the atmosphere and also gets reflected off the DM, but then passes through the coronagraph to finally be detected on the science camera. We will show the current DM surface, the raw wavefront sensor image, the instanteneous non-coronagraphic PSF and an accumulated long-exposure coronagraphic PSF in the animation."
   ]
  },
  {
   "cell_type": "code",
   "execution_count": null,
   "metadata": {
    "id": "U6aHEV8JgG4P"
   },
   "outputs": [],
   "source": [
    "layer.reset()\n",
    "deformable_mirror.flatten()\n",
    "\n",
    "gain = 0.3\n",
    "leakage = 0.01\n",
    "num_iterations = 750\n",
    "burn_in_iterations = 5\n",
    "\n",
    "coro = PerfectCoronagraph(VLT_aperture, 4)\n",
    "\n",
    "long_exposure = focal_grid.zeros()\n",
    "long_exposure_coro = focal_grid.zeros()\n",
    "\n",
    "# Set up animation\n",
    "plt.figure(figsize=(8, 8))\n",
    "anim = FFMpegWriter('AO_simulation_with_turbulence.mp4', framerate=10)\n",
    "\n",
    "for timestep in tqdm(range(num_iterations)):\n",
    "    layer.t = timestep * delta_t\n",
    "\n",
    "    # Propagate through atmosphere and deformable mirror.\n",
    "    wf_wfs_after_atmos = layer(wf_wfs)\n",
    "    wf_wfs_after_dm = deformable_mirror(wf_wfs_after_atmos)\n",
    "\n",
    "    # Propagate through SH-WFS\n",
    "    wf_wfs_on_sh = shwfs(magnifier(wf_wfs_after_dm))\n",
    "\n",
    "    # Propagate the NIR wavefront\n",
    "    wf_sci_focal_plane = propagator(deformable_mirror(layer(wf_sci)))\n",
    "    wf_sci_coro = propagator(coro(deformable_mirror(layer(wf_sci))))\n",
    "\n",
    "    # Read out WFS camera\n",
    "    camera.integrate(wf_wfs_on_sh, delta_t)\n",
    "    wfs_image = camera.read_out()\n",
    "    wfs_image = large_poisson(wfs_image).astype('float')\n",
    "\n",
    "    # Accumulate long-exposure image\n",
    "    if timestep >= burn_in_iterations:\n",
    "        long_exposure += wf_sci_focal_plane.power / (num_iterations - burn_in_iterations)\n",
    "        long_exposure_coro += wf_sci_coro.power / (num_iterations - burn_in_iterations)\n",
    "\n",
    "    # Calculate slopes from WFS image\n",
    "    slopes = shwfse.estimate([wfs_image + 1e-10])\n",
    "    slopes -= slopes_ref\n",
    "    slopes = slopes.ravel()\n",
    "\n",
    "    # Perform wavefront control and set DM actuators\n",
    "    deformable_mirror.actuators = (1 - leakage) * deformable_mirror.actuators - gain * reconstruction_matrix.dot(slopes)\n",
    "\n",
    "    # Plotting\n",
    "    if timestep % 20 == 0:\n",
    "        plt.clf()\n",
    "\n",
    "        plt.suptitle('Timestep %d / %d' % (timestep, num_iterations))\n",
    "\n",
    "        plt.subplot(2,2,1)\n",
    "        plt.title('DM surface [$\\\\mu$m]')\n",
    "        imshow_field(deformable_mirror.surface * 1e6, cmap='RdBu', vmin=-2, vmax=2, mask=VLT_aperture)\n",
    "        plt.colorbar()\n",
    "\n",
    "        plt.subplot(2,2,2)\n",
    "        plt.title('WFS image [counts]')\n",
    "        imshow_field(wfs_image, cmap='inferno')\n",
    "        plt.colorbar()\n",
    "\n",
    "        plt.subplot(2,2,3)\n",
    "        plt.title('Instantaneous PSF at 2.2$\\\\mu$m [log]')\n",
    "        imshow_field(np.log10(wf_sci_focal_plane.power/ wf_sci_focal_plane.power.max()), vmin=-6, vmax=0, cmap='inferno') #\n",
    "        plt.colorbar()\n",
    "\n",
    "        if timestep >= burn_in_iterations:\n",
    "            plt.subplot(2,2,4)\n",
    "            plt.title('Average PSF at 2.2$\\\\mu$m [log]')\n",
    "            imshow_field(np.log10(long_exposure_coro / long_exposure.max()), vmin=-6, vmax=0, cmap='inferno')\n",
    "            plt.colorbar()\n",
    "\n",
    "        anim.add_frame()\n",
    "\n",
    "plt.close()\n",
    "anim.close()\n",
    "\n",
    "# Show created animation\n",
    "anim"
   ]
  },
  {
   "cell_type": "markdown",
   "metadata": {},
   "source": [
    "In the long-exposure coronagraphic PSF, we can clearly see the wind-driven halo, due to the time lag of our simulated AO system, and the edge of the control region, outside of which the DM is not able to corrected the seeing. We could now start to modify parameters of our atmosphere, tune parameters of our AO control loop or wavefront sensor, or even change out the wavefront sensor or coronagraph completely. However this falls outside of the scope of this tutorial.\n",
    "\n",
    "We will however do some simple analysis of the images. We can calculate the Strehl ratio for this run using a built-in HCIPy function:"
   ]
  },
  {
   "cell_type": "code",
   "execution_count": null,
   "metadata": {
    "id": "q_Lqhgu8P671"
   },
   "outputs": [],
   "source": [
    "strehl = get_strehl_from_focal(long_exposure, unaberrated_PSF * wf_wfs.total_power)\n",
    "\n",
    "print('Strehl = %.1f%%' % (strehl * 100))"
   ]
  },
  {
   "cell_type": "markdown",
   "metadata": {},
   "source": [
    "We can also compute and display radial profiles of the coronagraphic and non-coronagraphic PSFs."
   ]
  },
  {
   "cell_type": "code",
   "execution_count": null,
   "metadata": {},
   "outputs": [],
   "source": [
    "r, y_coro, yerr, n = radial_profile(long_exposure_coro / long_exposure.max(), 0.25 * spatial_resolution)\n",
    "_, y_noncoro, _, _ = radial_profile(long_exposure / long_exposure.max(), 0.25 * spatial_resolution)\n",
    "_, y_unaber, _, _ = radial_profile(unaberrated_PSF / unaberrated_PSF.max(), 0.25 * spatial_resolution)\n",
    "\n",
    "rad_to_arcsec = 206265\n",
    "\n",
    "plt.plot(r * rad_to_arcsec, y_noncoro, label='Non-coronagraphic')\n",
    "plt.plot(r * rad_to_arcsec, y_coro, label='Coronagraphic')\n",
    "plt.plot(r * rad_to_arcsec, y_unaber, label='Unaberrated')\n",
    "plt.yscale('log')\n",
    "plt.xlim(0, 1.3)\n",
    "plt.ylim(3e-6, 1)\n",
    "plt.xlabel('Angular separation [arcsec]')\n",
    "plt.ylabel('Raw contrast')\n",
    "plt.legend()\n",
    "plt.show()"
   ]
  },
  {
   "cell_type": "code",
   "execution_count": null,
   "metadata": {},
   "outputs": [],
   "source": [
    "# Cleanup created movie files\n",
    "os.remove('response_matrix.mp4')\n",
    "os.remove('AO_simulation_without_turbulence.mp4')\n",
    "os.remove('atmospheric_turbulence.mp4')\n",
    "os.remove('AO_simulation_with_turbulence.mp4')"
   ]
  }
 ],
 "metadata": {
  "kernelspec": {
   "display_name": "Python 3",
   "language": "python",
   "name": "python3"
  },
  "language_info": {
   "codemirror_mode": {
    "name": "ipython",
    "version": 3
   },
   "file_extension": ".py",
   "mimetype": "text/x-python",
   "name": "python",
   "nbconvert_exporter": "python",
   "pygments_lexer": "ipython3",
   "version": "3.7.9"
  },
  "level": "advanced",
  "thumbnail_figure_index": 3
 },
 "nbformat": 4,
 "nbformat_minor": 1
}
